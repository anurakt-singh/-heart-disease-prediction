{
 "cells": [
  {
   "cell_type": "code",
   "execution_count": null,
   "id": "74f08be8",
   "metadata": {},
   "outputs": [],
   "source": [
    "\n",
    "# 1. Import Required Libraries\n",
    "import numpy as np\n",
    "import pandas as pd\n",
    "import matplotlib.pyplot as plt\n",
    "import seaborn as sns\n",
    "\n",
    "from sklearn.preprocessing import LabelEncoder, MinMaxScaler, StandardScaler\n",
    "from sklearn.model_selection import train_test_split\n",
    "from sklearn.ensemble import RandomForestClassifier\n",
    "from sklearn.svm import SVC\n",
    "from sklearn.metrics import classification_report, confusion_matrix, accuracy_score\n"
   ]
  },
  {
   "cell_type": "code",
   "execution_count": null,
   "id": "3b904c17",
   "metadata": {},
   "outputs": [],
   "source": [
    "\n",
    "# 2. Load the Dataset\n",
    "df = pd.read_csv('/content/heart.csv')  # Change path if needed\n",
    "print(df.head())\n",
    "print(df.info())\n"
   ]
  },
  {
   "cell_type": "code",
   "execution_count": null,
   "id": "1611273d",
   "metadata": {},
   "outputs": [],
   "source": [
    "\n",
    "# 3. Handle Missing Values\n",
    "print(\"\\nMissing Values Before:\")\n",
    "print(df.isnull().sum())\n",
    "\n",
    "df = df.dropna()\n",
    "\n",
    "print(\"\\nMissing Values After:\")\n",
    "print(df.isnull().sum())\n"
   ]
  },
  {
   "cell_type": "code",
   "execution_count": null,
   "id": "984b78e4",
   "metadata": {},
   "outputs": [],
   "source": [
    "\n",
    "# 4. Remove Duplicate Rows\n",
    "print(\"\\nDuplicate Rows Before:\", df.duplicated().sum())\n",
    "df = df.drop_duplicates()\n",
    "print(\"Duplicate Rows After:\", df.duplicated().sum())\n"
   ]
  },
  {
   "cell_type": "code",
   "execution_count": null,
   "id": "46041d38",
   "metadata": {},
   "outputs": [],
   "source": [
    "\n",
    "# 5. Exploratory Data Analysis (EDA)\n",
    "\n",
    "# 5.1 Distribution of each feature\n",
    "for column in df.columns:\n",
    "    plt.figure(figsize=(6, 4))\n",
    "    sns.distplot(df[column], kde=True)\n",
    "    plt.title(f'Distribution of {column}')\n",
    "    plt.show()\n"
   ]
  },
  {
   "cell_type": "code",
   "execution_count": null,
   "id": "0dd538e3",
   "metadata": {},
   "outputs": [],
   "source": [
    "\n",
    "# 5.2 Boxplots to detect Outliers\n",
    "for column in df.select_dtypes(include=np.number).columns:\n",
    "    plt.figure(figsize=(6, 4))\n",
    "    sns.boxplot(x=df[column])\n",
    "    plt.title(f'Boxplot of {column}')\n",
    "    plt.show()\n"
   ]
  },
  {
   "cell_type": "code",
   "execution_count": null,
   "id": "c380574f",
   "metadata": {},
   "outputs": [],
   "source": [
    "\n",
    "# 5.3 Pairplot\n",
    "sns.pairplot(df, hue='target')\n",
    "plt.show()\n"
   ]
  },
  {
   "cell_type": "code",
   "execution_count": null,
   "id": "ac57cbaf",
   "metadata": {},
   "outputs": [],
   "source": [
    "\n",
    "# 5.4 Correlation Matrix Heatmap\n",
    "plt.figure(figsize=(12,8))\n",
    "sns.heatmap(df.corr(), annot=True, cmap='coolwarm')\n",
    "plt.title('Correlation Matrix')\n",
    "plt.show()\n"
   ]
  },
  {
   "cell_type": "code",
   "execution_count": null,
   "id": "d153dfdd",
   "metadata": {},
   "outputs": [],
   "source": [
    "\n",
    "# 6. Encoding Categorical Variables if needed\n",
    "print(df.dtypes)\n",
    "\n",
    "label_encoders = {}\n",
    "for column in df.select_dtypes(include='object').columns:\n",
    "    le = LabelEncoder()\n",
    "    df[column] = le.fit_transform(df[column])\n",
    "    label_encoders[column] = le\n"
   ]
  },
  {
   "cell_type": "code",
   "execution_count": null,
   "id": "ad066768",
   "metadata": {},
   "outputs": [],
   "source": [
    "\n",
    "# 7. Normalization\n",
    "scaler = StandardScaler()\n",
    "scaled_features = scaler.fit_transform(df.drop('target', axis=1))\n",
    "df_scaled = pd.DataFrame(scaled_features, columns=df.drop('target', axis=1).columns)\n"
   ]
  },
  {
   "cell_type": "code",
   "execution_count": null,
   "id": "a49032da",
   "metadata": {},
   "outputs": [],
   "source": [
    "\n",
    "# 8. Define Feature Variables and Target Variable\n",
    "X = df_scaled\n",
    "y = df['target']\n",
    "\n",
    "print(\"\\nFeature Variables (X):\")\n",
    "print(X.head())\n",
    "print(\"\\nTarget Variable (y):\")\n",
    "print(y.head())\n"
   ]
  },
  {
   "cell_type": "code",
   "execution_count": null,
   "id": "4211dd65",
   "metadata": {},
   "outputs": [],
   "source": [
    "\n",
    "# 9. Train-Test Split\n",
    "X_train, X_test, y_train, y_test = train_test_split(X, y, test_size=0.2, random_state=42)\n"
   ]
  },
  {
   "cell_type": "code",
   "execution_count": null,
   "id": "cc7a5aaa",
   "metadata": {},
   "outputs": [],
   "source": [
    "\n",
    "# 10. Apply Two Different Models\n",
    "\n",
    "# Model 1: Random Forest Classifier\n",
    "rf_model = RandomForestClassifier(random_state=42)\n",
    "rf_model.fit(X_train, y_train)\n",
    "rf_pred = rf_model.predict(X_test)\n",
    "\n",
    "# Model 2: Support Vector Machine Classifier\n",
    "svm_model = SVC(random_state=42)\n",
    "svm_model.fit(X_train, y_train)\n",
    "svm_pred = svm_model.predict(X_test)\n"
   ]
  },
  {
   "cell_type": "code",
   "execution_count": null,
   "id": "fadae6df",
   "metadata": {},
   "outputs": [],
   "source": [
    "\n",
    "# 11. Evaluate Both Models\n",
    "print(\"\\nRandom Forest Classifier Results:\")\n",
    "print(confusion_matrix(y_test, rf_pred))\n",
    "print(classification_report(y_test, rf_pred))\n",
    "print(\"Accuracy:\", accuracy_score(y_test, rf_pred))\n",
    "\n",
    "print(\"\\nSupport Vector Machine Results:\")\n",
    "print(confusion_matrix(y_test, svm_pred))\n",
    "print(classification_report(y_test, svm_pred))\n",
    "print(\"Accuracy:\", accuracy_score(y_test, svm_pred))\n"
   ]
  }
 ],
 "metadata": {},
 "nbformat": 4,
 "nbformat_minor": 5
}
